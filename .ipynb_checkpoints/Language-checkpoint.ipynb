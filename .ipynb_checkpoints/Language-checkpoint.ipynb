{
 "cells": [
  {
   "cell_type": "code",
   "execution_count": 113,
   "id": "61179330",
   "metadata": {},
   "outputs": [],
   "source": [
    "import random\n",
    "import re"
   ]
  },
  {
   "cell_type": "code",
   "execution_count": 72,
   "id": "288e2347",
   "metadata": {},
   "outputs": [
    {
     "name": "stdout",
     "output_type": "stream",
     "text": [
      "0.5714025946899135\n",
      "0.4288890546751146\n"
     ]
    }
   ],
   "source": [
    "random.seed(10)\n",
    "print(random.random())\n",
    "print(random.random())"
   ]
  },
  {
   "cell_type": "code",
   "execution_count": 80,
   "id": "83b9b859",
   "metadata": {},
   "outputs": [
    {
     "data": {
      "text/plain": [
       "[0.00954653937947494,\n",
       " 0.002386634844868735,\n",
       " 0.9817024661893397,\n",
       " 0.006364359586316627]"
      ]
     },
     "execution_count": 80,
     "metadata": {},
     "output_type": "execute_result"
    }
   ],
   "source": [
    "p = [[12, 3],[1234, 8]]\n",
    "normalize(p)\n",
    "\n",
    "q = [12, 3, 1234, 8]\n",
    "normalize(q)"
   ]
  },
  {
   "cell_type": "code",
   "execution_count": 76,
   "id": "d9661ba1",
   "metadata": {},
   "outputs": [],
   "source": [
    "def normalize(input_list):\n",
    "    \n",
    "    if isinstance(input_list[0], list):\n",
    "        #input list is of format [[data, weight], [data, weight], ...]\n",
    "        total_of_weights = sum([j for i,j in input_list])\n",
    "        new_list = [[i, j/total_of_weights] for i,j in input_list]\n",
    "        return new_list\n",
    "    else:\n",
    "        #input list is of format [w1, w2, w3, ...]\n",
    "        total_of_weights = sum(input_list)\n",
    "        new_list = [i/total_of_weights for i in input_list]\n",
    "        return new_list"
   ]
  },
  {
   "cell_type": "code",
   "execution_count": 288,
   "id": "a10e7dd4",
   "metadata": {},
   "outputs": [],
   "source": [
    "class Language:\n",
    "    #TODO analytics so one can see the distribution of diff features\n",
    "    def __init__(self, seed):\n",
    "        random.seed(seed)\n",
    "        \n",
    "        self.set_nucleus_rules()\n",
    "        self.set_onset_rules()\n",
    "        \n",
    "    def set_nucleus_rules(self):\n",
    "        #TODO readd 1-2 possible double identical lettered dipthongs\n",
    "        #TODO maybe merge different vowel lengths into one list\n",
    "        \n",
    "        monopthongs_weight = random.random()\n",
    "        dipthongs_weight = random.random()\n",
    "        tripthongs_weight = dipthongs_weight/10 if dipthongs_weight > 0.5 else 0\n",
    "                \n",
    "        monos = ['a', 'e', 'i', 'o', 'u']\n",
    "        mono_probs = [[i, 1 + random.random()*3] for i in monos]\n",
    "        \n",
    "        duo_probs = normalize([[i[0]+j[0], i[1] * j[1] * (random.random()*2 + 0.01)] for i in mono_probs for j in mono_probs])\n",
    "        duo_probs = [i for i in duo_probs if i[1] > 0.005]\n",
    "        duo_probs = [i for i in duo_probs if i[0][0] != i[0][1]]\n",
    "        \n",
    "        tri_probs = [[i[0]+j[0], i[1] * j[1] * (random.random() + 0.01)] for i in mono_probs for j in duo_probs if j[1] > 0.01]\n",
    "        tri_probs = [i for i in tri_probs if i[0][0] != i[0][1]]\n",
    "        #tri_probs = [i for i in tri_probs if i[1] > 0.0005]\n",
    "        \n",
    "        #tri_probs = [i for i in tri_probs if re.search(\"a\", i[0])]\n",
    "        \n",
    "        self.vowel_probs = normalize([[normalize(mono_probs), monopthongs_weight],\n",
    "                                             [normalize(duo_probs), dipthongs_weight], \n",
    "                                             [normalize(tri_probs), tripthongs_weight]])\n",
    "        \n",
    "    def set_onset_rules(self):\n",
    "        onsets = ['q', 'r', 't', 'p', 's', 'd', 'f', 'g', 'h', 'j', 'k', 'l', 'z', 'x', 'c', 'v', 'b', 'n', 'm']\n",
    "        onsets2 = ['r', 't', 'p', 's', 'd', 'f', 'g', 'h', 'j', 'k', 'z', 'b', 'n', 'm']\n",
    "        \n",
    "        self.onset_probs = [[i, random.random()] for i in onsets2]\n",
    "    \n",
    "    def sample_nucleus(self):\n",
    "        core = random.choices([i for i,j in self.vowel_probs], weights=[j for i,j in self.vowel_probs])[0]\n",
    "        core2 = random.choices([i for i,j in core], weights=[j for i,j in core])[0]\n",
    "        return core2\n",
    "        \n",
    "\n",
    "    def sample_onset(self):\n",
    "        onset = random.choices([i for i,j in self.onset_probs], weights=[j for i,j in self.onset_probs])[0]\n",
    "        return onset\n",
    "        \n",
    "    def sample_word(self):\n",
    "        word = self.sample_onset() + self.sample_nucleus()\n",
    "        if random.random() > 0.5:\n",
    "            word = word + self.sample_onset() + self.sample_nucleus()\n",
    "        if random.random() > 0.8:\n",
    "            word = word + self.sample_onset() + self.sample_nucleus()\n",
    "        return word\n",
    "        \n",
    "    def sample_words(self, num):\n",
    "        return [self.sample_word() for i in range(num)]\n",
    "    \n",
    "    def write_sentence(self):\n",
    "        sentence = ''\n",
    "        \n",
    "        for i in range(int(random.random()*12 + 2)):\n",
    "            sentence = sentence + self.sample_word() + ' '\n",
    "        \n",
    "        return sentence\n",
    "            \n",
    "    def sample_sentences(self, num):\n",
    "        return [self.write_sentence() for i in range(num)]"
   ]
  },
  {
   "cell_type": "code",
   "execution_count": 270,
   "id": "0171e0c5",
   "metadata": {
    "scrolled": true
   },
   "outputs": [
    {
     "data": {
      "text/plain": [
       "[['aaa', 0.04109054791262745],\n",
       " ['aao', 0.039047432668437576],\n",
       " ['aoa', 0.0987463933160756],\n",
       " ['aoe', 0.07270649893413743],\n",
       " ['aoo', 0.030333572879706443],\n",
       " ['eaa', 0.020317971382138436],\n",
       " ['eao', 0.03482329409491287],\n",
       " ['eoa', 0.04229604528556583],\n",
       " ['eoe', 0.017086921934482458],\n",
       " ['eoo', 0.024446544763681816],\n",
       " ['iaa', 0.02896441647776228],\n",
       " ['iao', 0.008220028740975006],\n",
       " ['ioa', 0.01586406445044835],\n",
       " ['ioe', 0.021106896382783843],\n",
       " ['ioo', 0.029272545826536277],\n",
       " ['oaa', 0.0885695559848102],\n",
       " ['oao', 0.05380880050097457],\n",
       " ['ooa', 0.09748461357681944],\n",
       " ['ooe', 0.08735356554914017],\n",
       " ['ooo', 0.045366115910936956],\n",
       " ['uaa', 0.013988504860959065],\n",
       " ['uao', 0.015088944432596877],\n",
       " ['uoa', 0.03830269261548816],\n",
       " ['uoe', 0.011021538735696165],\n",
       " ['uoo', 0.024692492782306726]]"
      ]
     },
     "execution_count": 270,
     "metadata": {},
     "output_type": "execute_result"
    }
   ],
   "source": [
    "\n",
    "monos = ['a', 'e', 'i', 'o', 'u']\n",
    "mono_probs = [[i, 1 + random.random()*3] for i in monos]\n",
    "duo_probs = [[i[0]+j[0], i[1] * j[1] * (random.random()*2 + 0.25)] for i in mono_probs for j in mono_probs]\n",
    "normalize([[i[0]+j[0], i[1] * j[1] * (random.random()*2 +0.25)] for i in mono_probs for j in duo_probs])\n",
    "tri_probs = [[i[0]+j[0], i[1] * j[1] * (random.random() + 0.25)] for i in mono_probs for j in duo_probs if j[1] > 9]\n",
    "\n",
    "\n",
    "\n",
    "normalize(tri_probs)"
   ]
  },
  {
   "cell_type": "code",
   "execution_count": 296,
   "id": "e13f87fa",
   "metadata": {},
   "outputs": [
    {
     "data": {
      "text/plain": [
       "['senu fautue beiseu puezi pe neufa ti fue rikai ',\n",
       " 'dueokei keju noga zo fae beda peamai faio seade nehoa daibie nai ',\n",
       " 'beidi tea ',\n",
       " 'fiopauipi seuria ni tudaio neu heo zahou jae peifo reotu nipoai roa ',\n",
       " 'hio teopoabao fafoe redo ',\n",
       " 'ki zoakuihu pai nu tiebie fae zie nai taituidau poefea ji ',\n",
       " 'nuesoei hueheie pu ']"
      ]
     },
     "execution_count": 296,
     "metadata": {},
     "output_type": "execute_result"
    }
   ],
   "source": [
    "l = Language(2691)\n",
    "l.sample_sentences(7)"
   ]
  }
 ],
 "metadata": {
  "kernelspec": {
   "display_name": "Python 3 (ipykernel)",
   "language": "python",
   "name": "python3"
  },
  "language_info": {
   "codemirror_mode": {
    "name": "ipython",
    "version": 3
   },
   "file_extension": ".py",
   "mimetype": "text/x-python",
   "name": "python",
   "nbconvert_exporter": "python",
   "pygments_lexer": "ipython3",
   "version": "3.9.5"
  }
 },
 "nbformat": 4,
 "nbformat_minor": 5
}
